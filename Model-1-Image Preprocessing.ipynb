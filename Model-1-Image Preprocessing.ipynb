{
 "cells": [
  {
   "cell_type": "code",
   "execution_count": 158,
   "id": "913ee11f",
   "metadata": {},
   "outputs": [],
   "source": [
    "import numpy as np\n",
    "import pandas as pd\n",
    "import matplotlib.pyplot as plt\n",
    "import cv2\n",
    "from PIL import Image\n",
    "%matplotlib inline\n",
    "\n",
    "from glob import glob"
   ]
  },
  {
   "cell_type": "code",
   "execution_count": 159,
   "id": "a05b488c",
   "metadata": {},
   "outputs": [],
   "source": [
    "female=glob('./data/cropped_images/female/*.png')\n",
    "male=glob('./data/cropped_images/male/*.png')"
   ]
  },
  {
   "cell_type": "code",
   "execution_count": 160,
   "id": "282df135",
   "metadata": {},
   "outputs": [],
   "source": [
    "path=male+female "
   ]
  },
  {
   "cell_type": "code",
   "execution_count": 161,
   "id": "bdd0be13",
   "metadata": {},
   "outputs": [],
   "source": [
    "#size of image\n",
    "def getsize(path):\n",
    "    img=Image.open(path)\n",
    "    return img.size[0]"
   ]
  },
  {
   "cell_type": "code",
   "execution_count": 162,
   "id": "1729320b",
   "metadata": {},
   "outputs": [
    {
     "data": {
      "text/html": [
       "<div>\n",
       "<style scoped>\n",
       "    .dataframe tbody tr th:only-of-type {\n",
       "        vertical-align: middle;\n",
       "    }\n",
       "\n",
       "    .dataframe tbody tr th {\n",
       "        vertical-align: top;\n",
       "    }\n",
       "\n",
       "    .dataframe thead th {\n",
       "        text-align: right;\n",
       "    }\n",
       "</style>\n",
       "<table border=\"1\" class=\"dataframe\">\n",
       "  <thead>\n",
       "    <tr style=\"text-align: right;\">\n",
       "      <th></th>\n",
       "      <th>path</th>\n",
       "    </tr>\n",
       "  </thead>\n",
       "  <tbody>\n",
       "    <tr>\n",
       "      <th>0</th>\n",
       "      <td>./data/cropped_images/male\\male_0.png</td>\n",
       "    </tr>\n",
       "    <tr>\n",
       "      <th>1</th>\n",
       "      <td>./data/cropped_images/male\\male_1.png</td>\n",
       "    </tr>\n",
       "    <tr>\n",
       "      <th>2</th>\n",
       "      <td>./data/cropped_images/male\\male_1003.png</td>\n",
       "    </tr>\n",
       "    <tr>\n",
       "      <th>3</th>\n",
       "      <td>./data/cropped_images/male\\male_1005.png</td>\n",
       "    </tr>\n",
       "    <tr>\n",
       "      <th>4</th>\n",
       "      <td>./data/cropped_images/male\\male_1007.png</td>\n",
       "    </tr>\n",
       "  </tbody>\n",
       "</table>\n",
       "</div>"
      ],
      "text/plain": [
       "                                       path\n",
       "0     ./data/cropped_images/male\\male_0.png\n",
       "1     ./data/cropped_images/male\\male_1.png\n",
       "2  ./data/cropped_images/male\\male_1003.png\n",
       "3  ./data/cropped_images/male\\male_1005.png\n",
       "4  ./data/cropped_images/male\\male_1007.png"
      ]
     },
     "execution_count": 162,
     "metadata": {},
     "output_type": "execute_result"
    }
   ],
   "source": [
    "#Create DataFrame\n",
    "df=pd.DataFrame(data=path,columns=['path'])\n",
    "df.head()"
   ]
  },
  {
   "cell_type": "code",
   "execution_count": 163,
   "id": "8337502c",
   "metadata": {},
   "outputs": [
    {
     "data": {
      "text/plain": [
       "(6058, 1)"
      ]
     },
     "execution_count": 163,
     "metadata": {},
     "output_type": "execute_result"
    }
   ],
   "source": [
    "df.shape"
   ]
  },
  {
   "cell_type": "code",
   "execution_count": 164,
   "id": "13aff089",
   "metadata": {},
   "outputs": [],
   "source": [
    "df['size']=df['path'].apply(getsize)"
   ]
  },
  {
   "cell_type": "code",
   "execution_count": 165,
   "id": "4338c320",
   "metadata": {},
   "outputs": [
    {
     "data": {
      "text/html": [
       "<div>\n",
       "<style scoped>\n",
       "    .dataframe tbody tr th:only-of-type {\n",
       "        vertical-align: middle;\n",
       "    }\n",
       "\n",
       "    .dataframe tbody tr th {\n",
       "        vertical-align: top;\n",
       "    }\n",
       "\n",
       "    .dataframe thead th {\n",
       "        text-align: right;\n",
       "    }\n",
       "</style>\n",
       "<table border=\"1\" class=\"dataframe\">\n",
       "  <thead>\n",
       "    <tr style=\"text-align: right;\">\n",
       "      <th></th>\n",
       "      <th>path</th>\n",
       "      <th>size</th>\n",
       "    </tr>\n",
       "  </thead>\n",
       "  <tbody>\n",
       "    <tr>\n",
       "      <th>6053</th>\n",
       "      <td>./data/cropped_images/female\\female_994.png</td>\n",
       "      <td>182</td>\n",
       "    </tr>\n",
       "    <tr>\n",
       "      <th>6054</th>\n",
       "      <td>./data/cropped_images/female\\female_995.png</td>\n",
       "      <td>81</td>\n",
       "    </tr>\n",
       "    <tr>\n",
       "      <th>6055</th>\n",
       "      <td>./data/cropped_images/female\\female_997.png</td>\n",
       "      <td>122</td>\n",
       "    </tr>\n",
       "    <tr>\n",
       "      <th>6056</th>\n",
       "      <td>./data/cropped_images/female\\female_998.png</td>\n",
       "      <td>182</td>\n",
       "    </tr>\n",
       "    <tr>\n",
       "      <th>6057</th>\n",
       "      <td>./data/cropped_images/female\\female_999.png</td>\n",
       "      <td>182</td>\n",
       "    </tr>\n",
       "  </tbody>\n",
       "</table>\n",
       "</div>"
      ],
      "text/plain": [
       "                                             path  size\n",
       "6053  ./data/cropped_images/female\\female_994.png   182\n",
       "6054  ./data/cropped_images/female\\female_995.png    81\n",
       "6055  ./data/cropped_images/female\\female_997.png   122\n",
       "6056  ./data/cropped_images/female\\female_998.png   182\n",
       "6057  ./data/cropped_images/female\\female_999.png   182"
      ]
     },
     "execution_count": 165,
     "metadata": {},
     "output_type": "execute_result"
    }
   ],
   "source": [
    "df.tail()"
   ]
  },
  {
   "cell_type": "markdown",
   "id": "c7198603",
   "metadata": {},
   "source": [
    "# RESTRUCTURING OF IMAGES"
   ]
  },
  {
   "cell_type": "code",
   "execution_count": 166,
   "id": "43ae46b9",
   "metadata": {},
   "outputs": [
    {
     "data": {
      "text/html": [
       "<div>\n",
       "<style scoped>\n",
       "    .dataframe tbody tr th:only-of-type {\n",
       "        vertical-align: middle;\n",
       "    }\n",
       "\n",
       "    .dataframe tbody tr th {\n",
       "        vertical-align: top;\n",
       "    }\n",
       "\n",
       "    .dataframe thead th {\n",
       "        text-align: right;\n",
       "    }\n",
       "</style>\n",
       "<table border=\"1\" class=\"dataframe\">\n",
       "  <thead>\n",
       "    <tr style=\"text-align: right;\">\n",
       "      <th></th>\n",
       "      <th>size</th>\n",
       "    </tr>\n",
       "  </thead>\n",
       "  <tbody>\n",
       "    <tr>\n",
       "      <th>count</th>\n",
       "      <td>6058.000000</td>\n",
       "    </tr>\n",
       "    <tr>\n",
       "      <th>mean</th>\n",
       "      <td>154.290360</td>\n",
       "    </tr>\n",
       "    <tr>\n",
       "      <th>std</th>\n",
       "      <td>71.502692</td>\n",
       "    </tr>\n",
       "    <tr>\n",
       "      <th>min</th>\n",
       "      <td>24.000000</td>\n",
       "    </tr>\n",
       "    <tr>\n",
       "      <th>25%</th>\n",
       "      <td>81.000000</td>\n",
       "    </tr>\n",
       "    <tr>\n",
       "      <th>50%</th>\n",
       "      <td>122.000000</td>\n",
       "    </tr>\n",
       "    <tr>\n",
       "      <th>75%</th>\n",
       "      <td>182.000000</td>\n",
       "    </tr>\n",
       "    <tr>\n",
       "      <th>max</th>\n",
       "      <td>410.000000</td>\n",
       "    </tr>\n",
       "  </tbody>\n",
       "</table>\n",
       "</div>"
      ],
      "text/plain": [
       "              size\n",
       "count  6058.000000\n",
       "mean    154.290360\n",
       "std      71.502692\n",
       "min      24.000000\n",
       "25%      81.000000\n",
       "50%     122.000000\n",
       "75%     182.000000\n",
       "max     410.000000"
      ]
     },
     "execution_count": 166,
     "metadata": {},
     "output_type": "execute_result"
    }
   ],
   "source": [
    "df.describe()"
   ]
  },
  {
   "cell_type": "code",
   "execution_count": 167,
   "id": "8009ecfd",
   "metadata": {},
   "outputs": [
    {
     "data": {
      "text/plain": [
       "{'whiskers': [<matplotlib.lines.Line2D at 0x1e91e94d5c8>,\n",
       "  <matplotlib.lines.Line2D at 0x1e91e94dac8>],\n",
       " 'caps': [<matplotlib.lines.Line2D at 0x1e91e94d788>,\n",
       "  <matplotlib.lines.Line2D at 0x1e91a824ac8>],\n",
       " 'boxes': [<matplotlib.lines.Line2D at 0x1e91e940f88>],\n",
       " 'medians': [<matplotlib.lines.Line2D at 0x1e91e94d488>],\n",
       " 'fliers': [<matplotlib.lines.Line2D at 0x1e91e94d6c8>],\n",
       " 'means': []}"
      ]
     },
     "execution_count": 167,
     "metadata": {},
     "output_type": "execute_result"
    },
    {
     "data": {
      "image/png": "[encoded data removed]",
      "text/plain": [
       "<Figure size 432x288 with 1 Axes>"
      ]
     },
     "metadata": {
      "needs_background": "light"
     },
     "output_type": "display_data"
    }
   ],
   "source": [
    "plt.boxplot(df['size'])"
   ]
  },
  {
   "cell_type": "code",
   "execution_count": 168,
   "id": "9bb61554",
   "metadata": {},
   "outputs": [
    {
     "data": {
      "image/png": "[encoded data removed]",
      "text/plain": [
       "<Figure size 432x288 with 1 Axes>"
      ]
     },
     "metadata": {
      "needs_background": "light"
     },
     "output_type": "display_data"
    }
   ],
   "source": [
    "plt.hist(df['size'],bins=40)\n",
    "plt.show()"
   ]
  },
  {
   "cell_type": "markdown",
   "id": "6d2dbc50",
   "metadata": {},
   "source": [
    "### After analysing the data we draw the conclusion that we should remove images with size less than or equal to 54 and we will resize rest of the imagesto 100x100"
   ]
  },
  {
   "cell_type": "code",
   "execution_count": 169,
   "id": "c91ce175",
   "metadata": {},
   "outputs": [],
   "source": [
    "new_df=df[df['size']>54]"
   ]
  },
  {
   "cell_type": "code",
   "execution_count": 170,
   "id": "29b8dcdc",
   "metadata": {},
   "outputs": [
    {
     "data": {
      "text/html": [
       "<div>\n",
       "<style scoped>\n",
       "    .dataframe tbody tr th:only-of-type {\n",
       "        vertical-align: middle;\n",
       "    }\n",
       "\n",
       "    .dataframe tbody tr th {\n",
       "        vertical-align: top;\n",
       "    }\n",
       "\n",
       "    .dataframe thead th {\n",
       "        text-align: right;\n",
       "    }\n",
       "</style>\n",
       "<table border=\"1\" class=\"dataframe\">\n",
       "  <thead>\n",
       "    <tr style=\"text-align: right;\">\n",
       "      <th></th>\n",
       "      <th>path</th>\n",
       "      <th>size</th>\n",
       "    </tr>\n",
       "  </thead>\n",
       "  <tbody>\n",
       "    <tr>\n",
       "      <th>0</th>\n",
       "      <td>./data/cropped_images/male\\male_0.png</td>\n",
       "      <td>182</td>\n",
       "    </tr>\n",
       "    <tr>\n",
       "      <th>1</th>\n",
       "      <td>./data/cropped_images/male\\male_1.png</td>\n",
       "      <td>81</td>\n",
       "    </tr>\n",
       "    <tr>\n",
       "      <th>2</th>\n",
       "      <td>./data/cropped_images/male\\male_1003.png</td>\n",
       "      <td>81</td>\n",
       "    </tr>\n",
       "    <tr>\n",
       "      <th>3</th>\n",
       "      <td>./data/cropped_images/male\\male_1005.png</td>\n",
       "      <td>122</td>\n",
       "    </tr>\n",
       "    <tr>\n",
       "      <th>4</th>\n",
       "      <td>./data/cropped_images/male\\male_1007.png</td>\n",
       "      <td>273</td>\n",
       "    </tr>\n",
       "    <tr>\n",
       "      <th>...</th>\n",
       "      <td>...</td>\n",
       "      <td>...</td>\n",
       "    </tr>\n",
       "    <tr>\n",
       "      <th>6053</th>\n",
       "      <td>./data/cropped_images/female\\female_994.png</td>\n",
       "      <td>182</td>\n",
       "    </tr>\n",
       "    <tr>\n",
       "      <th>6054</th>\n",
       "      <td>./data/cropped_images/female\\female_995.png</td>\n",
       "      <td>81</td>\n",
       "    </tr>\n",
       "    <tr>\n",
       "      <th>6055</th>\n",
       "      <td>./data/cropped_images/female\\female_997.png</td>\n",
       "      <td>122</td>\n",
       "    </tr>\n",
       "    <tr>\n",
       "      <th>6056</th>\n",
       "      <td>./data/cropped_images/female\\female_998.png</td>\n",
       "      <td>182</td>\n",
       "    </tr>\n",
       "    <tr>\n",
       "      <th>6057</th>\n",
       "      <td>./data/cropped_images/female\\female_999.png</td>\n",
       "      <td>182</td>\n",
       "    </tr>\n",
       "  </tbody>\n",
       "</table>\n",
       "<p>5468 rows × 2 columns</p>\n",
       "</div>"
      ],
      "text/plain": [
       "                                             path  size\n",
       "0           ./data/cropped_images/male\\male_0.png   182\n",
       "1           ./data/cropped_images/male\\male_1.png    81\n",
       "2        ./data/cropped_images/male\\male_1003.png    81\n",
       "3        ./data/cropped_images/male\\male_1005.png   122\n",
       "4        ./data/cropped_images/male\\male_1007.png   273\n",
       "...                                           ...   ...\n",
       "6053  ./data/cropped_images/female\\female_994.png   182\n",
       "6054  ./data/cropped_images/female\\female_995.png    81\n",
       "6055  ./data/cropped_images/female\\female_997.png   122\n",
       "6056  ./data/cropped_images/female\\female_998.png   182\n",
       "6057  ./data/cropped_images/female\\female_999.png   182\n",
       "\n",
       "[5468 rows x 2 columns]"
      ]
     },
     "execution_count": 170,
     "metadata": {},
     "output_type": "execute_result"
    }
   ],
   "source": [
    "new_df"
   ]
  },
  {
   "cell_type": "code",
   "execution_count": 171,
   "id": "03182588",
   "metadata": {},
   "outputs": [],
   "source": [
    "def gender(string):\n",
    "    try:\n",
    "        return string.split('\\\\')[0].split('/')[-1]\n",
    "    except:\n",
    "        return None"
   ]
  },
  {
   "cell_type": "code",
   "execution_count": 172,
   "id": "0724022f",
   "metadata": {},
   "outputs": [
    {
     "name": "stderr",
     "output_type": "stream",
     "text": [
      "e:\\image processing\\image\\lib\\site-packages\\ipykernel_launcher.py:1: SettingWithCopyWarning: \n",
      "A value is trying to be set on a copy of a slice from a DataFrame.\n",
      "Try using .loc[row_indexer,col_indexer] = value instead\n",
      "\n",
      "See the caveats in the documentation: https://pandas.pydata.org/pandas-docs/stable/user_guide/indexing.html#returning-a-view-versus-a-copy\n",
      "  \"\"\"Entry point for launching an IPython kernel.\n"
     ]
    }
   ],
   "source": [
    "new_df['gender']=new_df['path'].apply(gender)"
   ]
  },
  {
   "cell_type": "code",
   "execution_count": 173,
   "id": "e14c19b2",
   "metadata": {},
   "outputs": [
    {
     "data": {
      "text/html": [
       "<div>\n",
       "<style scoped>\n",
       "    .dataframe tbody tr th:only-of-type {\n",
       "        vertical-align: middle;\n",
       "    }\n",
       "\n",
       "    .dataframe tbody tr th {\n",
       "        vertical-align: top;\n",
       "    }\n",
       "\n",
       "    .dataframe thead th {\n",
       "        text-align: right;\n",
       "    }\n",
       "</style>\n",
       "<table border=\"1\" class=\"dataframe\">\n",
       "  <thead>\n",
       "    <tr style=\"text-align: right;\">\n",
       "      <th></th>\n",
       "      <th>path</th>\n",
       "      <th>size</th>\n",
       "      <th>gender</th>\n",
       "    </tr>\n",
       "  </thead>\n",
       "  <tbody>\n",
       "    <tr>\n",
       "      <th>6053</th>\n",
       "      <td>./data/cropped_images/female\\female_994.png</td>\n",
       "      <td>182</td>\n",
       "      <td>female</td>\n",
       "    </tr>\n",
       "    <tr>\n",
       "      <th>6054</th>\n",
       "      <td>./data/cropped_images/female\\female_995.png</td>\n",
       "      <td>81</td>\n",
       "      <td>female</td>\n",
       "    </tr>\n",
       "    <tr>\n",
       "      <th>6055</th>\n",
       "      <td>./data/cropped_images/female\\female_997.png</td>\n",
       "      <td>122</td>\n",
       "      <td>female</td>\n",
       "    </tr>\n",
       "    <tr>\n",
       "      <th>6056</th>\n",
       "      <td>./data/cropped_images/female\\female_998.png</td>\n",
       "      <td>182</td>\n",
       "      <td>female</td>\n",
       "    </tr>\n",
       "    <tr>\n",
       "      <th>6057</th>\n",
       "      <td>./data/cropped_images/female\\female_999.png</td>\n",
       "      <td>182</td>\n",
       "      <td>female</td>\n",
       "    </tr>\n",
       "  </tbody>\n",
       "</table>\n",
       "</div>"
      ],
      "text/plain": [
       "                                             path  size  gender\n",
       "6053  ./data/cropped_images/female\\female_994.png   182  female\n",
       "6054  ./data/cropped_images/female\\female_995.png    81  female\n",
       "6055  ./data/cropped_images/female\\female_997.png   122  female\n",
       "6056  ./data/cropped_images/female\\female_998.png   182  female\n",
       "6057  ./data/cropped_images/female\\female_999.png   182  female"
      ]
     },
     "execution_count": 173,
     "metadata": {},
     "output_type": "execute_result"
    }
   ],
   "source": [
    "new_df.tail()"
   ]
  },
  {
   "cell_type": "code",
   "execution_count": 174,
   "id": "3c16164b",
   "metadata": {},
   "outputs": [
    {
     "data": {
      "text/plain": [
       "female    3259\n",
       "male      2209\n",
       "Name: gender, dtype: int64"
      ]
     },
     "execution_count": 174,
     "metadata": {},
     "output_type": "execute_result"
    }
   ],
   "source": [
    "new_df['gender'].value_counts()\n"
   ]
  },
  {
   "cell_type": "code",
   "execution_count": 175,
   "id": "e3f2d660",
   "metadata": {},
   "outputs": [
    {
     "name": "stdout",
     "output_type": "stream",
     "text": [
      "female    0.596013\n",
      "male      0.403987\n",
      "Name: gender, dtype: float64\n",
      "81\n"
     ]
    },
    {
     "data": {
      "image/png": "[encoded data removed]",
      "text/plain": [
       "<Figure size 432x288 with 1 Axes>"
      ]
     },
     "metadata": {
      "needs_background": "light"
     },
     "output_type": "display_data"
    }
   ],
   "source": [
    "print(new_df['gender'].value_counts(normalize=True))\n",
    "print(new_df['size'].min())\n",
    "new_df['gender'].value_counts(normalize=True).plot(kind='bar')\n",
    "plt.show()"
   ]
  },
  {
   "cell_type": "markdown",
   "id": "9819eba5",
   "metadata": {},
   "source": [
    "### There are 60% female pics and rest 40% are male pics and all the image sizes are >=81. We wiil resize the image to 100x100 array"
   ]
  },
  {
   "cell_type": "markdown",
   "id": "6f478c3d",
   "metadata": {},
   "source": [
    "# RESIZE IMAGES TO 100X100"
   ]
  },
  {
   "cell_type": "code",
   "execution_count": 176,
   "id": "05dc4a7f",
   "metadata": {},
   "outputs": [],
   "source": [
    "def resize_image(path):\n",
    "    try:\n",
    "       #Read image\n",
    "        img=cv2.imread(path)\n",
    "       #Convert image to grayscale\n",
    "        gray=cv2.cvtColor(img,cv2.COLOR_BGR2GRAY)\n",
    "       #resize image to 100x100 array\n",
    "        size=gray.shape[0]\n",
    "        if size>=100:\n",
    "            resize_gray=cv2.resize(gray,(100,100),cv2.INTER_AREA)\n",
    "        else:\n",
    "            resize_gray=cv2.resize(gray,(100,100),cv2.INTER_CUBIC)\n",
    "       #Flatten image\n",
    "        return resize_gray.flatten()\n",
    "    except:\n",
    "        return None\n",
    "    \n"
   ]
  },
  {
   "cell_type": "code",
   "execution_count": 177,
   "id": "424e5d82",
   "metadata": {
    "scrolled": true
   },
   "outputs": [
    {
     "name": "stderr",
     "output_type": "stream",
     "text": [
      "e:\\image processing\\image\\lib\\site-packages\\ipykernel_launcher.py:1: SettingWithCopyWarning: \n",
      "A value is trying to be set on a copy of a slice from a DataFrame.\n",
      "Try using .loc[row_indexer,col_indexer] = value instead\n",
      "\n",
      "See the caveats in the documentation: https://pandas.pydata.org/pandas-docs/stable/user_guide/indexing.html#returning-a-view-versus-a-copy\n",
      "  \"\"\"Entry point for launching an IPython kernel.\n"
     ]
    }
   ],
   "source": [
    "new_df['resized_image']=new_df['path'].apply(resize_image)"
   ]
  },
  {
   "cell_type": "code",
   "execution_count": 179,
   "id": "d9bf8aa4",
   "metadata": {},
   "outputs": [
    {
     "data": {
      "text/html": [
       "<div>\n",
       "<style scoped>\n",
       "    .dataframe tbody tr th:only-of-type {\n",
       "        vertical-align: middle;\n",
       "    }\n",
       "\n",
       "    .dataframe tbody tr th {\n",
       "        vertical-align: top;\n",
       "    }\n",
       "\n",
       "    .dataframe thead th {\n",
       "        text-align: right;\n",
       "    }\n",
       "</style>\n",
       "<table border=\"1\" class=\"dataframe\">\n",
       "  <thead>\n",
       "    <tr style=\"text-align: right;\">\n",
       "      <th></th>\n",
       "      <th>0</th>\n",
       "      <th>1</th>\n",
       "      <th>2</th>\n",
       "      <th>3</th>\n",
       "      <th>4</th>\n",
       "      <th>5</th>\n",
       "      <th>6</th>\n",
       "      <th>7</th>\n",
       "      <th>8</th>\n",
       "      <th>9</th>\n",
       "      <th>...</th>\n",
       "      <th>9990</th>\n",
       "      <th>9991</th>\n",
       "      <th>9992</th>\n",
       "      <th>9993</th>\n",
       "      <th>9994</th>\n",
       "      <th>9995</th>\n",
       "      <th>9996</th>\n",
       "      <th>9997</th>\n",
       "      <th>9998</th>\n",
       "      <th>9999</th>\n",
       "    </tr>\n",
       "  </thead>\n",
       "  <tbody>\n",
       "    <tr>\n",
       "      <th>0</th>\n",
       "      <td>106</td>\n",
       "      <td>100</td>\n",
       "      <td>81</td>\n",
       "      <td>69</td>\n",
       "      <td>71</td>\n",
       "      <td>48</td>\n",
       "      <td>51</td>\n",
       "      <td>55</td>\n",
       "      <td>41</td>\n",
       "      <td>17</td>\n",
       "      <td>...</td>\n",
       "      <td>17</td>\n",
       "      <td>18</td>\n",
       "      <td>26</td>\n",
       "      <td>28</td>\n",
       "      <td>31</td>\n",
       "      <td>30</td>\n",
       "      <td>31</td>\n",
       "      <td>29</td>\n",
       "      <td>31</td>\n",
       "      <td>31</td>\n",
       "    </tr>\n",
       "    <tr>\n",
       "      <th>1</th>\n",
       "      <td>45</td>\n",
       "      <td>47</td>\n",
       "      <td>48</td>\n",
       "      <td>48</td>\n",
       "      <td>48</td>\n",
       "      <td>49</td>\n",
       "      <td>50</td>\n",
       "      <td>52</td>\n",
       "      <td>50</td>\n",
       "      <td>45</td>\n",
       "      <td>...</td>\n",
       "      <td>137</td>\n",
       "      <td>135</td>\n",
       "      <td>134</td>\n",
       "      <td>135</td>\n",
       "      <td>138</td>\n",
       "      <td>138</td>\n",
       "      <td>137</td>\n",
       "      <td>138</td>\n",
       "      <td>138</td>\n",
       "      <td>135</td>\n",
       "    </tr>\n",
       "    <tr>\n",
       "      <th>2</th>\n",
       "      <td>165</td>\n",
       "      <td>184</td>\n",
       "      <td>209</td>\n",
       "      <td>224</td>\n",
       "      <td>220</td>\n",
       "      <td>211</td>\n",
       "      <td>193</td>\n",
       "      <td>170</td>\n",
       "      <td>153</td>\n",
       "      <td>148</td>\n",
       "      <td>...</td>\n",
       "      <td>14</td>\n",
       "      <td>14</td>\n",
       "      <td>14</td>\n",
       "      <td>13</td>\n",
       "      <td>13</td>\n",
       "      <td>14</td>\n",
       "      <td>14</td>\n",
       "      <td>14</td>\n",
       "      <td>14</td>\n",
       "      <td>15</td>\n",
       "    </tr>\n",
       "    <tr>\n",
       "      <th>3</th>\n",
       "      <td>141</td>\n",
       "      <td>143</td>\n",
       "      <td>148</td>\n",
       "      <td>156</td>\n",
       "      <td>161</td>\n",
       "      <td>173</td>\n",
       "      <td>157</td>\n",
       "      <td>138</td>\n",
       "      <td>146</td>\n",
       "      <td>121</td>\n",
       "      <td>...</td>\n",
       "      <td>205</td>\n",
       "      <td>203</td>\n",
       "      <td>173</td>\n",
       "      <td>86</td>\n",
       "      <td>72</td>\n",
       "      <td>60</td>\n",
       "      <td>46</td>\n",
       "      <td>59</td>\n",
       "      <td>88</td>\n",
       "      <td>148</td>\n",
       "    </tr>\n",
       "    <tr>\n",
       "      <th>4</th>\n",
       "      <td>180</td>\n",
       "      <td>115</td>\n",
       "      <td>41</td>\n",
       "      <td>103</td>\n",
       "      <td>23</td>\n",
       "      <td>25</td>\n",
       "      <td>36</td>\n",
       "      <td>35</td>\n",
       "      <td>25</td>\n",
       "      <td>31</td>\n",
       "      <td>...</td>\n",
       "      <td>112</td>\n",
       "      <td>110</td>\n",
       "      <td>104</td>\n",
       "      <td>112</td>\n",
       "      <td>86</td>\n",
       "      <td>83</td>\n",
       "      <td>116</td>\n",
       "      <td>126</td>\n",
       "      <td>111</td>\n",
       "      <td>113</td>\n",
       "    </tr>\n",
       "    <tr>\n",
       "      <th>...</th>\n",
       "      <td>...</td>\n",
       "      <td>...</td>\n",
       "      <td>...</td>\n",
       "      <td>...</td>\n",
       "      <td>...</td>\n",
       "      <td>...</td>\n",
       "      <td>...</td>\n",
       "      <td>...</td>\n",
       "      <td>...</td>\n",
       "      <td>...</td>\n",
       "      <td>...</td>\n",
       "      <td>...</td>\n",
       "      <td>...</td>\n",
       "      <td>...</td>\n",
       "      <td>...</td>\n",
       "      <td>...</td>\n",
       "      <td>...</td>\n",
       "      <td>...</td>\n",
       "      <td>...</td>\n",
       "      <td>...</td>\n",
       "      <td>...</td>\n",
       "    </tr>\n",
       "    <tr>\n",
       "      <th>6053</th>\n",
       "      <td>81</td>\n",
       "      <td>80</td>\n",
       "      <td>83</td>\n",
       "      <td>79</td>\n",
       "      <td>74</td>\n",
       "      <td>68</td>\n",
       "      <td>64</td>\n",
       "      <td>55</td>\n",
       "      <td>55</td>\n",
       "      <td>56</td>\n",
       "      <td>...</td>\n",
       "      <td>115</td>\n",
       "      <td>129</td>\n",
       "      <td>151</td>\n",
       "      <td>148</td>\n",
       "      <td>149</td>\n",
       "      <td>150</td>\n",
       "      <td>153</td>\n",
       "      <td>151</td>\n",
       "      <td>155</td>\n",
       "      <td>148</td>\n",
       "    </tr>\n",
       "    <tr>\n",
       "      <th>6054</th>\n",
       "      <td>21</td>\n",
       "      <td>25</td>\n",
       "      <td>30</td>\n",
       "      <td>33</td>\n",
       "      <td>34</td>\n",
       "      <td>33</td>\n",
       "      <td>34</td>\n",
       "      <td>38</td>\n",
       "      <td>42</td>\n",
       "      <td>47</td>\n",
       "      <td>...</td>\n",
       "      <td>32</td>\n",
       "      <td>35</td>\n",
       "      <td>26</td>\n",
       "      <td>12</td>\n",
       "      <td>2</td>\n",
       "      <td>3</td>\n",
       "      <td>4</td>\n",
       "      <td>2</td>\n",
       "      <td>0</td>\n",
       "      <td>1</td>\n",
       "    </tr>\n",
       "    <tr>\n",
       "      <th>6055</th>\n",
       "      <td>68</td>\n",
       "      <td>65</td>\n",
       "      <td>43</td>\n",
       "      <td>29</td>\n",
       "      <td>23</td>\n",
       "      <td>32</td>\n",
       "      <td>37</td>\n",
       "      <td>33</td>\n",
       "      <td>39</td>\n",
       "      <td>28</td>\n",
       "      <td>...</td>\n",
       "      <td>65</td>\n",
       "      <td>10</td>\n",
       "      <td>35</td>\n",
       "      <td>33</td>\n",
       "      <td>54</td>\n",
       "      <td>67</td>\n",
       "      <td>43</td>\n",
       "      <td>35</td>\n",
       "      <td>46</td>\n",
       "      <td>46</td>\n",
       "    </tr>\n",
       "    <tr>\n",
       "      <th>6056</th>\n",
       "      <td>187</td>\n",
       "      <td>188</td>\n",
       "      <td>190</td>\n",
       "      <td>194</td>\n",
       "      <td>199</td>\n",
       "      <td>202</td>\n",
       "      <td>203</td>\n",
       "      <td>203</td>\n",
       "      <td>204</td>\n",
       "      <td>204</td>\n",
       "      <td>...</td>\n",
       "      <td>72</td>\n",
       "      <td>60</td>\n",
       "      <td>60</td>\n",
       "      <td>48</td>\n",
       "      <td>52</td>\n",
       "      <td>60</td>\n",
       "      <td>46</td>\n",
       "      <td>45</td>\n",
       "      <td>41</td>\n",
       "      <td>49</td>\n",
       "    </tr>\n",
       "    <tr>\n",
       "      <th>6057</th>\n",
       "      <td>0</td>\n",
       "      <td>0</td>\n",
       "      <td>0</td>\n",
       "      <td>0</td>\n",
       "      <td>0</td>\n",
       "      <td>0</td>\n",
       "      <td>0</td>\n",
       "      <td>0</td>\n",
       "      <td>0</td>\n",
       "      <td>2</td>\n",
       "      <td>...</td>\n",
       "      <td>2</td>\n",
       "      <td>1</td>\n",
       "      <td>3</td>\n",
       "      <td>3</td>\n",
       "      <td>1</td>\n",
       "      <td>0</td>\n",
       "      <td>2</td>\n",
       "      <td>2</td>\n",
       "      <td>2</td>\n",
       "      <td>9</td>\n",
       "    </tr>\n",
       "  </tbody>\n",
       "</table>\n",
       "<p>5468 rows × 10000 columns</p>\n",
       "</div>"
      ],
      "text/plain": [
       "      0     1     2     3     4     5     6     7     8     9     ...  9990  \\\n",
       "0      106   100    81    69    71    48    51    55    41    17  ...    17   \n",
       "1       45    47    48    48    48    49    50    52    50    45  ...   137   \n",
       "2      165   184   209   224   220   211   193   170   153   148  ...    14   \n",
       "3      141   143   148   156   161   173   157   138   146   121  ...   205   \n",
       "4      180   115    41   103    23    25    36    35    25    31  ...   112   \n",
       "...    ...   ...   ...   ...   ...   ...   ...   ...   ...   ...  ...   ...   \n",
       "6053    81    80    83    79    74    68    64    55    55    56  ...   115   \n",
       "6054    21    25    30    33    34    33    34    38    42    47  ...    32   \n",
       "6055    68    65    43    29    23    32    37    33    39    28  ...    65   \n",
       "6056   187   188   190   194   199   202   203   203   204   204  ...    72   \n",
       "6057     0     0     0     0     0     0     0     0     0     2  ...     2   \n",
       "\n",
       "      9991  9992  9993  9994  9995  9996  9997  9998  9999  \n",
       "0       18    26    28    31    30    31    29    31    31  \n",
       "1      135   134   135   138   138   137   138   138   135  \n",
       "2       14    14    13    13    14    14    14    14    15  \n",
       "3      203   173    86    72    60    46    59    88   148  \n",
       "4      110   104   112    86    83   116   126   111   113  \n",
       "...    ...   ...   ...   ...   ...   ...   ...   ...   ...  \n",
       "6053   129   151   148   149   150   153   151   155   148  \n",
       "6054    35    26    12     2     3     4     2     0     1  \n",
       "6055    10    35    33    54    67    43    35    46    46  \n",
       "6056    60    60    48    52    60    46    45    41    49  \n",
       "6057     1     3     3     1     0     2     2     2     9  \n",
       "\n",
       "[5468 rows x 10000 columns]"
      ]
     },
     "execution_count": 179,
     "metadata": {},
     "output_type": "execute_result"
    }
   ],
   "source": [
    "#Copy and expanding columns\n",
    "d1=new_df['resized_image'].apply(pd.Series)\n",
    "d1"
   ]
  },
  {
   "cell_type": "code",
   "execution_count": 180,
   "id": "af4cf326",
   "metadata": {},
   "outputs": [],
   "source": [
    "d2=pd.concat((new_df['gender'],d1),axis=1)"
   ]
  },
  {
   "cell_type": "code",
   "execution_count": 181,
   "id": "24bd2376",
   "metadata": {},
   "outputs": [
    {
     "data": {
      "text/html": [
       "<div>\n",
       "<style scoped>\n",
       "    .dataframe tbody tr th:only-of-type {\n",
       "        vertical-align: middle;\n",
       "    }\n",
       "\n",
       "    .dataframe tbody tr th {\n",
       "        vertical-align: top;\n",
       "    }\n",
       "\n",
       "    .dataframe thead th {\n",
       "        text-align: right;\n",
       "    }\n",
       "</style>\n",
       "<table border=\"1\" class=\"dataframe\">\n",
       "  <thead>\n",
       "    <tr style=\"text-align: right;\">\n",
       "      <th></th>\n",
       "      <th>gender</th>\n",
       "      <th>0</th>\n",
       "      <th>1</th>\n",
       "      <th>2</th>\n",
       "      <th>3</th>\n",
       "      <th>4</th>\n",
       "      <th>5</th>\n",
       "      <th>6</th>\n",
       "      <th>7</th>\n",
       "      <th>8</th>\n",
       "      <th>...</th>\n",
       "      <th>9990</th>\n",
       "      <th>9991</th>\n",
       "      <th>9992</th>\n",
       "      <th>9993</th>\n",
       "      <th>9994</th>\n",
       "      <th>9995</th>\n",
       "      <th>9996</th>\n",
       "      <th>9997</th>\n",
       "      <th>9998</th>\n",
       "      <th>9999</th>\n",
       "    </tr>\n",
       "  </thead>\n",
       "  <tbody>\n",
       "    <tr>\n",
       "      <th>0</th>\n",
       "      <td>male</td>\n",
       "      <td>106</td>\n",
       "      <td>100</td>\n",
       "      <td>81</td>\n",
       "      <td>69</td>\n",
       "      <td>71</td>\n",
       "      <td>48</td>\n",
       "      <td>51</td>\n",
       "      <td>55</td>\n",
       "      <td>41</td>\n",
       "      <td>...</td>\n",
       "      <td>17</td>\n",
       "      <td>18</td>\n",
       "      <td>26</td>\n",
       "      <td>28</td>\n",
       "      <td>31</td>\n",
       "      <td>30</td>\n",
       "      <td>31</td>\n",
       "      <td>29</td>\n",
       "      <td>31</td>\n",
       "      <td>31</td>\n",
       "    </tr>\n",
       "    <tr>\n",
       "      <th>1</th>\n",
       "      <td>male</td>\n",
       "      <td>45</td>\n",
       "      <td>47</td>\n",
       "      <td>48</td>\n",
       "      <td>48</td>\n",
       "      <td>48</td>\n",
       "      <td>49</td>\n",
       "      <td>50</td>\n",
       "      <td>52</td>\n",
       "      <td>50</td>\n",
       "      <td>...</td>\n",
       "      <td>137</td>\n",
       "      <td>135</td>\n",
       "      <td>134</td>\n",
       "      <td>135</td>\n",
       "      <td>138</td>\n",
       "      <td>138</td>\n",
       "      <td>137</td>\n",
       "      <td>138</td>\n",
       "      <td>138</td>\n",
       "      <td>135</td>\n",
       "    </tr>\n",
       "    <tr>\n",
       "      <th>2</th>\n",
       "      <td>male</td>\n",
       "      <td>165</td>\n",
       "      <td>184</td>\n",
       "      <td>209</td>\n",
       "      <td>224</td>\n",
       "      <td>220</td>\n",
       "      <td>211</td>\n",
       "      <td>193</td>\n",
       "      <td>170</td>\n",
       "      <td>153</td>\n",
       "      <td>...</td>\n",
       "      <td>14</td>\n",
       "      <td>14</td>\n",
       "      <td>14</td>\n",
       "      <td>13</td>\n",
       "      <td>13</td>\n",
       "      <td>14</td>\n",
       "      <td>14</td>\n",
       "      <td>14</td>\n",
       "      <td>14</td>\n",
       "      <td>15</td>\n",
       "    </tr>\n",
       "    <tr>\n",
       "      <th>3</th>\n",
       "      <td>male</td>\n",
       "      <td>141</td>\n",
       "      <td>143</td>\n",
       "      <td>148</td>\n",
       "      <td>156</td>\n",
       "      <td>161</td>\n",
       "      <td>173</td>\n",
       "      <td>157</td>\n",
       "      <td>138</td>\n",
       "      <td>146</td>\n",
       "      <td>...</td>\n",
       "      <td>205</td>\n",
       "      <td>203</td>\n",
       "      <td>173</td>\n",
       "      <td>86</td>\n",
       "      <td>72</td>\n",
       "      <td>60</td>\n",
       "      <td>46</td>\n",
       "      <td>59</td>\n",
       "      <td>88</td>\n",
       "      <td>148</td>\n",
       "    </tr>\n",
       "    <tr>\n",
       "      <th>4</th>\n",
       "      <td>male</td>\n",
       "      <td>180</td>\n",
       "      <td>115</td>\n",
       "      <td>41</td>\n",
       "      <td>103</td>\n",
       "      <td>23</td>\n",
       "      <td>25</td>\n",
       "      <td>36</td>\n",
       "      <td>35</td>\n",
       "      <td>25</td>\n",
       "      <td>...</td>\n",
       "      <td>112</td>\n",
       "      <td>110</td>\n",
       "      <td>104</td>\n",
       "      <td>112</td>\n",
       "      <td>86</td>\n",
       "      <td>83</td>\n",
       "      <td>116</td>\n",
       "      <td>126</td>\n",
       "      <td>111</td>\n",
       "      <td>113</td>\n",
       "    </tr>\n",
       "  </tbody>\n",
       "</table>\n",
       "<p>5 rows × 10001 columns</p>\n",
       "</div>"
      ],
      "text/plain": [
       "  gender    0    1    2    3    4    5    6    7    8  ...  9990  9991  9992  \\\n",
       "0   male  106  100   81   69   71   48   51   55   41  ...    17    18    26   \n",
       "1   male   45   47   48   48   48   49   50   52   50  ...   137   135   134   \n",
       "2   male  165  184  209  224  220  211  193  170  153  ...    14    14    14   \n",
       "3   male  141  143  148  156  161  173  157  138  146  ...   205   203   173   \n",
       "4   male  180  115   41  103   23   25   36   35   25  ...   112   110   104   \n",
       "\n",
       "   9993  9994  9995  9996  9997  9998  9999  \n",
       "0    28    31    30    31    29    31    31  \n",
       "1   135   138   138   137   138   138   135  \n",
       "2    13    13    14    14    14    14    15  \n",
       "3    86    72    60    46    59    88   148  \n",
       "4   112    86    83   116   126   111   113  \n",
       "\n",
       "[5 rows x 10001 columns]"
      ]
     },
     "execution_count": 181,
     "metadata": {},
     "output_type": "execute_result"
    }
   ],
   "source": [
    "d2.head()"
   ]
  },
  {
   "cell_type": "code",
   "execution_count": 184,
   "id": "df27322b",
   "metadata": {},
   "outputs": [
    {
     "data": {
      "image/png": "[encoded data removed]",
      "text/plain": [
       "<Figure size 432x288 with 1 Axes>"
      ]
     },
     "metadata": {
      "needs_background": "light"
     },
     "output_type": "display_data"
    }
   ],
   "source": [
    "plt.imshow(d2.loc[0][1:].values.reshape(100,100).astype('int'),cmap='gray')\n",
    "plt.title(\"Label:\"+d2.loc[0]['gender'])\n",
    "plt.show()"
   ]
  },
  {
   "cell_type": "markdown",
   "id": "f47d6e3f",
   "metadata": {},
   "source": [
    "# Saving Dataframe"
   ]
  },
  {
   "cell_type": "code",
   "execution_count": 185,
   "id": "e465772b",
   "metadata": {},
   "outputs": [],
   "source": [
    "import pickle"
   ]
  },
  {
   "cell_type": "code",
   "execution_count": 186,
   "id": "fbe337cd",
   "metadata": {},
   "outputs": [],
   "source": [
    "pickle.dump(d2,open('./data/resized_images.pickle','wb'))"
   ]
  },
  {
   "cell_type": "code",
   "execution_count": null,
   "id": "f0fb36d4",
   "metadata": {},
   "outputs": [],
   "source": []
  }
 ],
 "metadata": {
  "kernelspec": {
   "display_name": "Python 3",
   "language": "python",
   "name": "python3"
  },
  "language_info": {
   "codemirror_mode": {
    "name": "ipython",
    "version": 3
   },
   "file_extension": ".py",
   "mimetype": "text/x-python",
   "name": "python",
   "nbconvert_exporter": "python",
   "pygments_lexer": "ipython3",
   "version": "3.7.6"
  }
 },
 "nbformat": 4,
 "nbformat_minor": 5
}
