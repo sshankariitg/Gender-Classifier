{
 "cells": [
  {
   "cell_type": "code",
   "execution_count": 26,
   "id": "a624eb05",
   "metadata": {},
   "outputs": [],
   "source": [
    "import numpy as np\n",
    "import pandas as pd\n",
    "import matplotlib.pyplot as plt\n",
    "import cv2\n",
    "from PIL import Image\n",
    "import pickle\n",
    "%matplotlib inline"
   ]
  },
  {
   "cell_type": "code",
   "execution_count": 27,
   "id": "6827e016",
   "metadata": {},
   "outputs": [],
   "source": [
    "#Loading our pickle data from image processing part\n",
    "df=pickle.load(open('./data/resized_images.pickle','rb'))"
   ]
  },
  {
   "cell_type": "code",
   "execution_count": 28,
   "id": "01bac063",
   "metadata": {},
   "outputs": [
    {
     "data": {
      "text/html": [
       "<div>\n",
       "<style scoped>\n",
       "    .dataframe tbody tr th:only-of-type {\n",
       "        vertical-align: middle;\n",
       "    }\n",
       "\n",
       "    .dataframe tbody tr th {\n",
       "        vertical-align: top;\n",
       "    }\n",
       "\n",
       "    .dataframe thead th {\n",
       "        text-align: right;\n",
       "    }\n",
       "</style>\n",
       "<table border=\"1\" class=\"dataframe\">\n",
       "  <thead>\n",
       "    <tr style=\"text-align: right;\">\n",
       "      <th></th>\n",
       "      <th>gender</th>\n",
       "      <th>0</th>\n",
       "      <th>1</th>\n",
       "      <th>2</th>\n",
       "      <th>3</th>\n",
       "      <th>4</th>\n",
       "      <th>5</th>\n",
       "      <th>6</th>\n",
       "      <th>7</th>\n",
       "      <th>8</th>\n",
       "      <th>...</th>\n",
       "      <th>9990</th>\n",
       "      <th>9991</th>\n",
       "      <th>9992</th>\n",
       "      <th>9993</th>\n",
       "      <th>9994</th>\n",
       "      <th>9995</th>\n",
       "      <th>9996</th>\n",
       "      <th>9997</th>\n",
       "      <th>9998</th>\n",
       "      <th>9999</th>\n",
       "    </tr>\n",
       "  </thead>\n",
       "  <tbody>\n",
       "    <tr>\n",
       "      <th>0</th>\n",
       "      <td>male</td>\n",
       "      <td>106</td>\n",
       "      <td>100</td>\n",
       "      <td>81</td>\n",
       "      <td>69</td>\n",
       "      <td>71</td>\n",
       "      <td>48</td>\n",
       "      <td>51</td>\n",
       "      <td>55</td>\n",
       "      <td>41</td>\n",
       "      <td>...</td>\n",
       "      <td>17</td>\n",
       "      <td>18</td>\n",
       "      <td>26</td>\n",
       "      <td>28</td>\n",
       "      <td>31</td>\n",
       "      <td>30</td>\n",
       "      <td>31</td>\n",
       "      <td>29</td>\n",
       "      <td>31</td>\n",
       "      <td>31</td>\n",
       "    </tr>\n",
       "    <tr>\n",
       "      <th>1</th>\n",
       "      <td>male</td>\n",
       "      <td>45</td>\n",
       "      <td>47</td>\n",
       "      <td>48</td>\n",
       "      <td>48</td>\n",
       "      <td>48</td>\n",
       "      <td>49</td>\n",
       "      <td>50</td>\n",
       "      <td>52</td>\n",
       "      <td>50</td>\n",
       "      <td>...</td>\n",
       "      <td>137</td>\n",
       "      <td>135</td>\n",
       "      <td>134</td>\n",
       "      <td>135</td>\n",
       "      <td>138</td>\n",
       "      <td>138</td>\n",
       "      <td>137</td>\n",
       "      <td>138</td>\n",
       "      <td>138</td>\n",
       "      <td>135</td>\n",
       "    </tr>\n",
       "    <tr>\n",
       "      <th>2</th>\n",
       "      <td>male</td>\n",
       "      <td>165</td>\n",
       "      <td>184</td>\n",
       "      <td>209</td>\n",
       "      <td>224</td>\n",
       "      <td>220</td>\n",
       "      <td>211</td>\n",
       "      <td>193</td>\n",
       "      <td>170</td>\n",
       "      <td>153</td>\n",
       "      <td>...</td>\n",
       "      <td>14</td>\n",
       "      <td>14</td>\n",
       "      <td>14</td>\n",
       "      <td>13</td>\n",
       "      <td>13</td>\n",
       "      <td>14</td>\n",
       "      <td>14</td>\n",
       "      <td>14</td>\n",
       "      <td>14</td>\n",
       "      <td>15</td>\n",
       "    </tr>\n",
       "    <tr>\n",
       "      <th>3</th>\n",
       "      <td>male</td>\n",
       "      <td>141</td>\n",
       "      <td>143</td>\n",
       "      <td>148</td>\n",
       "      <td>156</td>\n",
       "      <td>161</td>\n",
       "      <td>173</td>\n",
       "      <td>157</td>\n",
       "      <td>138</td>\n",
       "      <td>146</td>\n",
       "      <td>...</td>\n",
       "      <td>205</td>\n",
       "      <td>203</td>\n",
       "      <td>173</td>\n",
       "      <td>86</td>\n",
       "      <td>72</td>\n",
       "      <td>60</td>\n",
       "      <td>46</td>\n",
       "      <td>59</td>\n",
       "      <td>88</td>\n",
       "      <td>148</td>\n",
       "    </tr>\n",
       "    <tr>\n",
       "      <th>4</th>\n",
       "      <td>male</td>\n",
       "      <td>180</td>\n",
       "      <td>115</td>\n",
       "      <td>41</td>\n",
       "      <td>103</td>\n",
       "      <td>23</td>\n",
       "      <td>25</td>\n",
       "      <td>36</td>\n",
       "      <td>35</td>\n",
       "      <td>25</td>\n",
       "      <td>...</td>\n",
       "      <td>112</td>\n",
       "      <td>110</td>\n",
       "      <td>104</td>\n",
       "      <td>112</td>\n",
       "      <td>86</td>\n",
       "      <td>83</td>\n",
       "      <td>116</td>\n",
       "      <td>126</td>\n",
       "      <td>111</td>\n",
       "      <td>113</td>\n",
       "    </tr>\n",
       "  </tbody>\n",
       "</table>\n",
       "<p>5 rows × 10001 columns</p>\n",
       "</div>"
      ],
      "text/plain": [
       "  gender    0    1    2    3    4    5    6    7    8  ...  9990  9991  9992  \\\n",
       "0   male  106  100   81   69   71   48   51   55   41  ...    17    18    26   \n",
       "1   male   45   47   48   48   48   49   50   52   50  ...   137   135   134   \n",
       "2   male  165  184  209  224  220  211  193  170  153  ...    14    14    14   \n",
       "3   male  141  143  148  156  161  173  157  138  146  ...   205   203   173   \n",
       "4   male  180  115   41  103   23   25   36   35   25  ...   112   110   104   \n",
       "\n",
       "   9993  9994  9995  9996  9997  9998  9999  \n",
       "0    28    31    30    31    29    31    31  \n",
       "1   135   138   138   137   138   138   135  \n",
       "2    13    13    14    14    14    14    15  \n",
       "3    86    72    60    46    59    88   148  \n",
       "4   112    86    83   116   126   111   113  \n",
       "\n",
       "[5 rows x 10001 columns]"
      ]
     },
     "execution_count": 28,
     "metadata": {},
     "output_type": "execute_result"
    }
   ],
   "source": [
    "df.head()"
   ]
  },
  {
   "cell_type": "code",
   "execution_count": 29,
   "id": "4a6d7e76",
   "metadata": {},
   "outputs": [
    {
     "data": {
      "text/plain": [
       "gender    0\n",
       "0         0\n",
       "1         0\n",
       "2         0\n",
       "3         0\n",
       "         ..\n",
       "9995      0\n",
       "9996      0\n",
       "9997      0\n",
       "9998      0\n",
       "9999      0\n",
       "Length: 10001, dtype: int64"
      ]
     },
     "execution_count": 29,
     "metadata": {},
     "output_type": "execute_result"
    }
   ],
   "source": [
    "#checking for missing values if any\n",
    "df.dropna(axis=0,inplace=True)\n",
    "df.isnull().sum()"
   ]
  },
  {
   "cell_type": "markdown",
   "id": "4d2d899f",
   "metadata": {},
   "source": [
    "### There are no missing values"
   ]
  },
  {
   "cell_type": "markdown",
   "id": "34451ab2",
   "metadata": {},
   "source": [
    "# Normalizing data"
   ]
  },
  {
   "cell_type": "code",
   "execution_count": 30,
   "id": "12926873",
   "metadata": {},
   "outputs": [],
   "source": [
    "x=df.iloc[:,1:].values #independent features\n",
    "y=df.iloc[:,0].values # dependent"
   ]
  },
  {
   "cell_type": "markdown",
   "id": "f162d66c",
   "metadata": {},
   "source": [
    "### Min-Max scaling"
   ]
  },
  {
   "cell_type": "code",
   "execution_count": 31,
   "id": "7709b1f5",
   "metadata": {},
   "outputs": [],
   "source": [
    "x_norm=(x-x.min())/(x.max()-x.min())"
   ]
  },
  {
   "cell_type": "code",
   "execution_count": 32,
   "id": "d7519eb5",
   "metadata": {},
   "outputs": [],
   "source": [
    "#if female=1.male=0\n",
    "y_norm=np.where(y=='female',1,0)"
   ]
  },
  {
   "cell_type": "code",
   "execution_count": 33,
   "id": "c00c5791",
   "metadata": {},
   "outputs": [],
   "source": [
    "#saving x and y\n",
    "np.savez('./data/normalized_data.npz',x_norm,y_norm)"
   ]
  },
  {
   "cell_type": "code",
   "execution_count": null,
   "id": "d336be44",
   "metadata": {},
   "outputs": [],
   "source": []
  }
 ],
 "metadata": {
  "kernelspec": {
   "display_name": "Python 3",
   "language": "python",
   "name": "python3"
  },
  "language_info": {
   "codemirror_mode": {
    "name": "ipython",
    "version": 3
   },
   "file_extension": ".py",
   "mimetype": "text/x-python",
   "name": "python",
   "nbconvert_exporter": "python",
   "pygments_lexer": "ipython3",
   "version": "3.7.6"
  }
 },
 "nbformat": 4,
 "nbformat_minor": 5
}
