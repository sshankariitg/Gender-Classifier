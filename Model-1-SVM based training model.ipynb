{
 "cells": [
  {
   "cell_type": "code",
   "execution_count": 1,
   "id": "35a77d6a",
   "metadata": {},
   "outputs": [],
   "source": [
    "import numpy as np\n",
    "import pandas as pd\n",
    "import pickle\n",
    "import matplotlib.pyplot as plt\n",
    "from sklearn.decomposition import PCA\n",
    "%matplotlib inline\n",
    "import warnings\n",
    "warnings.filterwarnings('ignore')"
   ]
  },
  {
   "cell_type": "code",
   "execution_count": 2,
   "id": "c8e393f4",
   "metadata": {},
   "outputs": [
    {
     "data": {
      "text/plain": [
       "['arr_0', 'arr_1', 'arr_2']"
      ]
     },
     "execution_count": 2,
     "metadata": {},
     "output_type": "execute_result"
    }
   ],
   "source": [
    "data=np.load('./data/pca_50_y_mean.pickle.npz')\n",
    "data.files"
   ]
  },
  {
   "cell_type": "code",
   "execution_count": 3,
   "id": "346d40be",
   "metadata": {},
   "outputs": [],
   "source": [
    "x=data['arr_0']\n",
    "y=data['arr_1']\n",
    "mean=data['arr_2']"
   ]
  },
  {
   "cell_type": "code",
   "execution_count": 4,
   "id": "0a661f3d",
   "metadata": {},
   "outputs": [
    {
     "data": {
      "text/plain": [
       "((4374, 50), (4374,), (1094, 50), (1094,))"
      ]
     },
     "execution_count": 4,
     "metadata": {},
     "output_type": "execute_result"
    }
   ],
   "source": [
    "#splitting training and testing data\n",
    "from sklearn.model_selection import train_test_split\n",
    "x_train,x_test,y_train,y_test=train_test_split(x,y,test_size=0.2,stratify=y)\n",
    "x_train.shape,y_train.shape,x_test.shape,y_test.shape"
   ]
  },
  {
   "cell_type": "markdown",
   "id": "5581cbbe",
   "metadata": {},
   "source": [
    "# Training ML  Model"
   ]
  },
  {
   "cell_type": "code",
   "execution_count": 6,
   "id": "ec9958c2",
   "metadata": {},
   "outputs": [],
   "source": [
    "from sklearn.svm import SVC"
   ]
  },
  {
   "cell_type": "code",
   "execution_count": 12,
   "id": "98653322",
   "metadata": {},
   "outputs": [],
   "source": [
    "model=SVC(C=1.0,kernel='rbf',gamma=0.01,probability=True)"
   ]
  },
  {
   "cell_type": "code",
   "execution_count": 13,
   "id": "8564addf",
   "metadata": {},
   "outputs": [
    {
     "name": "stdout",
     "output_type": "stream",
     "text": [
      "Success\n"
     ]
    }
   ],
   "source": [
    "model.fit(x_train,y_train)\n",
    "print(\"Success\")"
   ]
  },
  {
   "cell_type": "code",
   "execution_count": 14,
   "id": "1a94ee4d",
   "metadata": {},
   "outputs": [
    {
     "data": {
      "text/plain": [
       "0.8593964334705075"
      ]
     },
     "execution_count": 14,
     "metadata": {},
     "output_type": "execute_result"
    }
   ],
   "source": [
    "#performance\n",
    "model.score(x_train,y_train)"
   ]
  },
  {
   "cell_type": "code",
   "execution_count": 15,
   "id": "55948d9a",
   "metadata": {},
   "outputs": [
    {
     "data": {
      "text/plain": [
       "0.7970749542961609"
      ]
     },
     "execution_count": 15,
     "metadata": {},
     "output_type": "execute_result"
    }
   ],
   "source": [
    "model.score(x_test,y_test)"
   ]
  },
  {
   "cell_type": "markdown",
   "id": "5c5cc998",
   "metadata": {},
   "source": [
    "## Model Performance"
   ]
  },
  {
   "cell_type": "code",
   "execution_count": 16,
   "id": "c3f0cd3b",
   "metadata": {},
   "outputs": [],
   "source": [
    "from sklearn import metrics"
   ]
  },
  {
   "cell_type": "code",
   "execution_count": 18,
   "id": "1e269ef2",
   "metadata": {},
   "outputs": [],
   "source": [
    "y_pred=model.predict(x_test)\n",
    "y_prob=model.predict_proba(x_test)"
   ]
  },
  {
   "cell_type": "code",
   "execution_count": 19,
   "id": "4494e837",
   "metadata": {},
   "outputs": [],
   "source": [
    "cm=metrics.confusion_matrix(y_test,y_pred)"
   ]
  },
  {
   "cell_type": "code",
   "execution_count": 20,
   "id": "099de020",
   "metadata": {
    "scrolled": true
   },
   "outputs": [
    {
     "data": {
      "text/plain": [
       "array([[328, 114],\n",
       "       [108, 544]], dtype=int64)"
      ]
     },
     "execution_count": 20,
     "metadata": {},
     "output_type": "execute_result"
    }
   ],
   "source": [
    "cm"
   ]
  },
  {
   "cell_type": "code",
   "execution_count": 25,
   "id": "213c0f28",
   "metadata": {},
   "outputs": [
    {
     "data": {
      "text/html": [
       "<div>\n",
       "<style scoped>\n",
       "    .dataframe tbody tr th:only-of-type {\n",
       "        vertical-align: middle;\n",
       "    }\n",
       "\n",
       "    .dataframe tbody tr th {\n",
       "        vertical-align: top;\n",
       "    }\n",
       "\n",
       "    .dataframe thead th {\n",
       "        text-align: right;\n",
       "    }\n",
       "</style>\n",
       "<table border=\"1\" class=\"dataframe\">\n",
       "  <thead>\n",
       "    <tr style=\"text-align: right;\">\n",
       "      <th></th>\n",
       "      <th>precision</th>\n",
       "      <th>recall</th>\n",
       "      <th>f1-score</th>\n",
       "      <th>support</th>\n",
       "    </tr>\n",
       "  </thead>\n",
       "  <tbody>\n",
       "    <tr>\n",
       "      <th>male</th>\n",
       "      <td>0.752294</td>\n",
       "      <td>0.742081</td>\n",
       "      <td>0.747153</td>\n",
       "      <td>442.000000</td>\n",
       "    </tr>\n",
       "    <tr>\n",
       "      <th>female</th>\n",
       "      <td>0.826748</td>\n",
       "      <td>0.834356</td>\n",
       "      <td>0.830534</td>\n",
       "      <td>652.000000</td>\n",
       "    </tr>\n",
       "    <tr>\n",
       "      <th>accuracy</th>\n",
       "      <td>0.797075</td>\n",
       "      <td>0.797075</td>\n",
       "      <td>0.797075</td>\n",
       "      <td>0.797075</td>\n",
       "    </tr>\n",
       "    <tr>\n",
       "      <th>macro avg</th>\n",
       "      <td>0.789521</td>\n",
       "      <td>0.788219</td>\n",
       "      <td>0.788843</td>\n",
       "      <td>1094.000000</td>\n",
       "    </tr>\n",
       "    <tr>\n",
       "      <th>weighted avg</th>\n",
       "      <td>0.796667</td>\n",
       "      <td>0.797075</td>\n",
       "      <td>0.796846</td>\n",
       "      <td>1094.000000</td>\n",
       "    </tr>\n",
       "  </tbody>\n",
       "</table>\n",
       "</div>"
      ],
      "text/plain": [
       "              precision    recall  f1-score      support\n",
       "male           0.752294  0.742081  0.747153   442.000000\n",
       "female         0.826748  0.834356  0.830534   652.000000\n",
       "accuracy       0.797075  0.797075  0.797075     0.797075\n",
       "macro avg      0.789521  0.788219  0.788843  1094.000000\n",
       "weighted avg   0.796667  0.797075  0.796846  1094.000000"
      ]
     },
     "execution_count": 25,
     "metadata": {},
     "output_type": "execute_result"
    }
   ],
   "source": [
    "#classification report\n",
    "c=metrics.classification_report(y_test,y_pred,target_names=['male','female'],output_dict=True)\n",
    "pd.DataFrame(c).T\n"
   ]
  },
  {
   "cell_type": "code",
   "execution_count": 26,
   "id": "70356e66",
   "metadata": {},
   "outputs": [
    {
     "data": {
      "text/plain": [
       "0.5777001884863364"
      ]
     },
     "execution_count": 26,
     "metadata": {},
     "output_type": "execute_result"
    }
   ],
   "source": [
    "#kappa_score\n",
    "metrics.cohen_kappa_score(y_test,y_pred)"
   ]
  },
  {
   "cell_type": "code",
   "execution_count": 31,
   "id": "dd9e7497",
   "metadata": {},
   "outputs": [
    {
     "data": {
      "image/png": "[encoded data removed]",
      "text/plain": [
       "<Figure size 432x288 with 1 Axes>"
      ]
     },
     "metadata": {
      "needs_background": "light"
     },
     "output_type": "display_data"
    }
   ],
   "source": [
    "#ROC-female\n",
    "fpr,tpr,thresh=metrics.roc_curve(y_test,y_prob[:,1])\n",
    "auc_score=metrics.auc(fpr,tpr)\n",
    "plt.plot(fpr,tpr,'--')\n",
    "plt.plot([0,1],[0,1],'r-.')\n",
    "plt.xlabel('false pos. rate')\n",
    "plt.ylabel('true pos. rate')\n",
    "plt.title('roc curve')\n",
    "plt.legend(['AUC Score=%0.2f'%auc_score])\n",
    "plt.show()"
   ]
  },
  {
   "cell_type": "markdown",
   "id": "4441fea4",
   "metadata": {},
   "source": [
    "# Hyper Parameter Tuning"
   ]
  },
  {
   "cell_type": "code",
   "execution_count": 32,
   "id": "6290d132",
   "metadata": {},
   "outputs": [],
   "source": [
    "tuning=SVC()"
   ]
  },
  {
   "cell_type": "code",
   "execution_count": 33,
   "id": "c1363539",
   "metadata": {},
   "outputs": [],
   "source": [
    "from sklearn.model_selection import GridSearchCV"
   ]
  },
  {
   "cell_type": "code",
   "execution_count": 34,
   "id": "9f53c0cc",
   "metadata": {},
   "outputs": [],
   "source": [
    "para_grid={'C':[1,10,20,30,40,50,100],\n",
    "          'kernel':['rbf','poly'],\n",
    "          'gamma':[0.005,0.002,0.001,0.01,0.05,0.1],\n",
    "          'coef0':[0,1],\n",
    "          }"
   ]
  },
  {
   "cell_type": "code",
   "execution_count": 35,
   "id": "5a2c358b",
   "metadata": {},
   "outputs": [],
   "source": [
    "model_grid=GridSearchCV(tuning,param_grid=para_grid,scoring='accuracy',cv=5,verbose=1)"
   ]
  },
  {
   "cell_type": "code",
   "execution_count": 36,
   "id": "e2412c35",
   "metadata": {},
   "outputs": [
    {
     "name": "stdout",
     "output_type": "stream",
     "text": [
      "Fitting 5 folds for each of 168 candidates, totalling 840 fits\n"
     ]
    },
    {
     "data": {
      "text/plain": [
       "GridSearchCV(cv=5, estimator=SVC(),\n",
       "             param_grid={'C': [1, 10, 20, 30, 40, 50, 100], 'coef0': [0, 1],\n",
       "                         'gamma': [0.005, 0.002, 0.001, 0.01, 0.05, 0.1],\n",
       "                         'kernel': ['rbf', 'poly']},\n",
       "             scoring='accuracy', verbose=1)"
      ]
     },
     "execution_count": 36,
     "metadata": {},
     "output_type": "execute_result"
    }
   ],
   "source": [
    "model_grid.fit(x,y)"
   ]
  },
  {
   "cell_type": "code",
   "execution_count": 39,
   "id": "81ddc628",
   "metadata": {},
   "outputs": [
    {
     "data": {
      "text/plain": [
       "{'C': 10, 'coef0': 0, 'gamma': 0.005, 'kernel': 'rbf'}"
      ]
     },
     "execution_count": 39,
     "metadata": {},
     "output_type": "execute_result"
    }
   ],
   "source": [
    "model_grid.best_params_"
   ]
  },
  {
   "cell_type": "code",
   "execution_count": 41,
   "id": "b3166423",
   "metadata": {},
   "outputs": [
    {
     "data": {
      "text/plain": [
       "0.7849295249309634"
      ]
     },
     "execution_count": 41,
     "metadata": {},
     "output_type": "execute_result"
    }
   ],
   "source": [
    "model_grid.best_score_"
   ]
  },
  {
   "cell_type": "code",
   "execution_count": 45,
   "id": "a83c58af",
   "metadata": {},
   "outputs": [],
   "source": [
    "#with the best parameters we will build our model\n",
    "best_model=SVC(C=10,kernel='rbf',gamma=0.005,coef0=0,probability=True)"
   ]
  },
  {
   "cell_type": "code",
   "execution_count": 46,
   "id": "618151f7",
   "metadata": {},
   "outputs": [
    {
     "data": {
      "text/plain": [
       "0.7989031078610603"
      ]
     },
     "execution_count": 46,
     "metadata": {},
     "output_type": "execute_result"
    }
   ],
   "source": [
    "best_model.fit(x_train,y_train)\n",
    "best_model.score(x_test,y_test)"
   ]
  },
  {
   "cell_type": "code",
   "execution_count": 47,
   "id": "577528ad",
   "metadata": {},
   "outputs": [],
   "source": [
    "#Best Model  Performance\n",
    "y_pred=best_model.predict(x_test)\n",
    "y_prob=best_model.predict_proba(x_test)"
   ]
  },
  {
   "cell_type": "code",
   "execution_count": 48,
   "id": "6825af78",
   "metadata": {},
   "outputs": [],
   "source": [
    "cm=metrics.confusion_matrix(y_test,y_pred)"
   ]
  },
  {
   "cell_type": "code",
   "execution_count": 49,
   "id": "5cd5140b",
   "metadata": {},
   "outputs": [
    {
     "data": {
      "text/plain": [
       "array([[337, 105],\n",
       "       [115, 537]], dtype=int64)"
      ]
     },
     "execution_count": 49,
     "metadata": {},
     "output_type": "execute_result"
    }
   ],
   "source": [
    "cm"
   ]
  },
  {
   "cell_type": "code",
   "execution_count": 52,
   "id": "382309b1",
   "metadata": {},
   "outputs": [
    {
     "data": {
      "text/html": [
       "<div>\n",
       "<style scoped>\n",
       "    .dataframe tbody tr th:only-of-type {\n",
       "        vertical-align: middle;\n",
       "    }\n",
       "\n",
       "    .dataframe tbody tr th {\n",
       "        vertical-align: top;\n",
       "    }\n",
       "\n",
       "    .dataframe thead th {\n",
       "        text-align: right;\n",
       "    }\n",
       "</style>\n",
       "<table border=\"1\" class=\"dataframe\">\n",
       "  <thead>\n",
       "    <tr style=\"text-align: right;\">\n",
       "      <th></th>\n",
       "      <th>precision</th>\n",
       "      <th>recall</th>\n",
       "      <th>f1-score</th>\n",
       "      <th>support</th>\n",
       "    </tr>\n",
       "  </thead>\n",
       "  <tbody>\n",
       "    <tr>\n",
       "      <th>male</th>\n",
       "      <td>0.745575</td>\n",
       "      <td>0.762443</td>\n",
       "      <td>0.753915</td>\n",
       "      <td>442.000000</td>\n",
       "    </tr>\n",
       "    <tr>\n",
       "      <th>female</th>\n",
       "      <td>0.836449</td>\n",
       "      <td>0.823620</td>\n",
       "      <td>0.829985</td>\n",
       "      <td>652.000000</td>\n",
       "    </tr>\n",
       "    <tr>\n",
       "      <th>accuracy</th>\n",
       "      <td>0.798903</td>\n",
       "      <td>0.798903</td>\n",
       "      <td>0.798903</td>\n",
       "      <td>0.798903</td>\n",
       "    </tr>\n",
       "    <tr>\n",
       "      <th>macro avg</th>\n",
       "      <td>0.791012</td>\n",
       "      <td>0.793032</td>\n",
       "      <td>0.791950</td>\n",
       "      <td>1094.000000</td>\n",
       "    </tr>\n",
       "    <tr>\n",
       "      <th>weighted avg</th>\n",
       "      <td>0.799734</td>\n",
       "      <td>0.798903</td>\n",
       "      <td>0.799251</td>\n",
       "      <td>1094.000000</td>\n",
       "    </tr>\n",
       "  </tbody>\n",
       "</table>\n",
       "</div>"
      ],
      "text/plain": [
       "              precision    recall  f1-score      support\n",
       "male           0.745575  0.762443  0.753915   442.000000\n",
       "female         0.836449  0.823620  0.829985   652.000000\n",
       "accuracy       0.798903  0.798903  0.798903     0.798903\n",
       "macro avg      0.791012  0.793032  0.791950  1094.000000\n",
       "weighted avg   0.799734  0.798903  0.799251  1094.000000"
      ]
     },
     "execution_count": 52,
     "metadata": {},
     "output_type": "execute_result"
    }
   ],
   "source": [
    "#classification report\n",
    "c=metrics.classification_report(y_test,y_pred,target_names=['male','female'],output_dict=True)\n",
    "pd.DataFrame(c).T"
   ]
  },
  {
   "cell_type": "code",
   "execution_count": 53,
   "id": "03de5002",
   "metadata": {},
   "outputs": [
    {
     "data": {
      "text/plain": [
       "0.5839354985928349"
      ]
     },
     "execution_count": 53,
     "metadata": {},
     "output_type": "execute_result"
    }
   ],
   "source": [
    "#kappa_score\n",
    "metrics.cohen_kappa_score(y_test,y_pred)"
   ]
  },
  {
   "cell_type": "code",
   "execution_count": 54,
   "id": "0024c81f",
   "metadata": {},
   "outputs": [
    {
     "data": {
      "image/png": "[encoded data removed]",
      "text/plain": [
       "<Figure size 432x288 with 1 Axes>"
      ]
     },
     "metadata": {
      "needs_background": "light"
     },
     "output_type": "display_data"
    }
   ],
   "source": [
    "#ROC-female\n",
    "fpr,tpr,thresh=metrics.roc_curve(y_test,y_prob[:,1])\n",
    "auc_score=metrics.auc(fpr,tpr)\n",
    "plt.plot(fpr,tpr,'--')\n",
    "plt.plot([0,1],[0,1],'r-.')\n",
    "plt.xlabel('false pos. rate')\n",
    "plt.ylabel('true pos. rate')\n",
    "plt.title('roc curve')\n",
    "plt.legend(['AUC Score=%0.2f'%auc_score])\n",
    "plt.show()"
   ]
  },
  {
   "cell_type": "code",
   "execution_count": 55,
   "id": "59497e64",
   "metadata": {},
   "outputs": [],
   "source": [
    "#Saving our model\n",
    "pickle.dump(best_model,open('svm_best_model.pickle','wb'))"
   ]
  },
  {
   "cell_type": "code",
   "execution_count": 56,
   "id": "122e18b0",
   "metadata": {},
   "outputs": [],
   "source": [
    "pickle.dump(mean,open('./model/preprocessing_mean.pickle','wb'))"
   ]
  },
  {
   "cell_type": "code",
   "execution_count": null,
   "id": "a3323149",
   "metadata": {},
   "outputs": [],
   "source": []
  }
 ],
 "metadata": {
  "kernelspec": {
   "display_name": "Python 3",
   "language": "python",
   "name": "python3"
  },
  "language_info": {
   "codemirror_mode": {
    "name": "ipython",
    "version": 3
   },
   "file_extension": ".py",
   "mimetype": "text/x-python",
   "name": "python",
   "nbconvert_exporter": "python",
   "pygments_lexer": "ipython3",
   "version": "3.7.6"
  }
 },
 "nbformat": 4,
 "nbformat_minor": 5
}
